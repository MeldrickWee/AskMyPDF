{
 "cells": [
  {
   "cell_type": "code",
   "execution_count": 26,
   "metadata": {},
   "outputs": [],
   "source": [
    "from langchain.document_loaders import PyPDFLoader, UnstructuredPDFLoader\n",
    "from langchain.text_splitter import RecursiveCharacterTextSplitter, CharacterTextSplitter\n",
    "from langchain.embeddings.openai import OpenAIEmbeddings\n",
    "from langchain.vectorstores import FAISS\n",
    "from langchain.chat_models import ChatOpenAI\n",
    "from langchain.chains import RetrievalQAWithSourcesChain, ConversationalRetrievalChain\n",
    "from langchain.prompts.prompt import PromptTemplate\n",
    "from langchain.chains.qa_with_sources import load_qa_with_sources_chain\n",
    "from langchain.prompts.chat import (ChatPromptTemplate,SystemMessagePromptTemplate,HumanMessagePromptTemplate,)"
   ]
  },
  {
   "cell_type": "code",
   "execution_count": 13,
   "metadata": {},
   "outputs": [],
   "source": [
    "OPENAI_API_KEY=\"enter_your_api_key_here_as_a_string\""
   ]
  },
  {
   "cell_type": "code",
   "execution_count": 2,
   "metadata": {},
   "outputs": [
    {
     "name": "stdout",
     "output_type": "stream",
     "text": [
      "You have 94 pages in your pdf\n",
      "There are 711 characters in page 5 of your pdf\n"
     ]
    }
   ],
   "source": [
    "# May need to do a \"pip install pypdf\" to get this to work\n",
    "loader = PyPDFLoader(\"../data/pdf_data/AI-Practitioner-Handbook.pdf\")\n",
    "\n",
    "data = loader.load()\n",
    "print (f'You have {len(data)} pages in your pdf')\n",
    "# number of characters in whole data\n",
    "print (f'There are {len(data[4].page_content)} characters in page 5 of your pdf')"
   ]
  },
  {
   "cell_type": "code",
   "execution_count": 3,
   "metadata": {},
   "outputs": [
    {
     "data": {
      "text/plain": [
       "'AIPractitionerHandbook\\nIdentifying AI Ready Projects\\nAIprojectsexecutedbyAISingaporeinthe100Eprogrammearereal-worldproblemstatementsfromtheindustryand\\ngothrougharigorousreviewprocessbeforeitgetsapprovedandonboardedbeforeanyengineeringworkisdone.\\nLeveragingthe AIReadinessIndex(AIRI) developedbyAISingapore,weareabletoquicklyidentifyorganizationsthat\\nareAIUnaware,AIAware,AIReadyorAICompetent.\\nInthe100Eprogramme,team’sworkfocusesonAIReadycompaniesonly1.\\nDelivering AI Ready Projects\\nProjectsapprovedunderthe100Eprogrammearedeliveredin7monthsfollowinganAgilemethodology,typicallyover\\n10-15sprints.\\n1AISingaporeandotherSingaporeagencieshaveotherprogrammeswhichassistcompaniesthatareAIUnawareandAIAware.\\n2 CONTENTS'"
      ]
     },
     "execution_count": 3,
     "metadata": {},
     "output_type": "execute_result"
    }
   ],
   "source": [
    "# Show page 5 content\n",
    "data[4].page_content"
   ]
  },
  {
   "cell_type": "code",
   "execution_count": 5,
   "metadata": {},
   "outputs": [],
   "source": [
    "pages = loader.load_and_split()"
   ]
  },
  {
   "cell_type": "code",
   "execution_count": 6,
   "metadata": {},
   "outputs": [
    {
     "data": {
      "text/plain": [
       "list"
      ]
     },
     "execution_count": 6,
     "metadata": {},
     "output_type": "execute_result"
    }
   ],
   "source": [
    "type(pages)"
   ]
  },
  {
   "cell_type": "code",
   "execution_count": 7,
   "metadata": {},
   "outputs": [
    {
     "name": "stdout",
     "output_type": "stream",
     "text": [
      "\n",
      "Total word count: 11323\n",
      "\n",
      "Estimated tokens: 43236\n",
      "\n",
      "Estimated cost of embedding: $0.08647200000000001\n"
     ]
    }
   ],
   "source": [
    "import tiktoken\n",
    "\n",
    "# create a GPT-3.5 encoder instance, can use other models as well\n",
    "enc = tiktoken.encoding_for_model(\"gpt-3.5-turbo\")\n",
    "\n",
    "# estimate the number of words and tokens. Check the cost of embedding in case it's too expensive\n",
    "est_total_word_count = sum(len(doc.page_content.split()) for doc in pages)\n",
    "est_total_token_count = sum(len(enc.encode(doc.page_content)) for doc in pages)\n",
    "\n",
    "print(f\"\\nTotal word count: {est_total_word_count}\")\n",
    "print(f\"\\nEstimated tokens: {est_total_token_count}\")\n",
    "print(f\"\\nEstimated cost of embedding: ${est_total_token_count * 0.002 / 1000}\") # 0.002 is the cost per 1k tokens"
   ]
  },
  {
   "cell_type": "code",
   "execution_count": null,
   "metadata": {},
   "outputs": [],
   "source": [
    "# This section is used if another type of document loader is used, for example UnstructuredPDFLoader. But UnstructuredPDFLoader is unstable at the moment with the packages.\n",
    "\n",
    "# text_splitter = RecursiveCharacterTextSplitter(chunk_size=1000, chunk_overlap=0)\n",
    "# text_splitter = CharacterTextSplitter(chunk_size=1000, chunk_overlap=0)\n",
    "# texts = text_splitter.split_documents(data)\n",
    "\n",
    "# print (f'Now you have {len(texts)} documents')"
   ]
  },
  {
   "cell_type": "code",
   "execution_count": 8,
   "metadata": {},
   "outputs": [],
   "source": [
    "# Turn the PDF into embeddings, then store them in a FAISS index\n",
    "\n",
    "embeddings = OpenAIEmbeddings(openai_api_key=OPENAI_API_KEY)\n",
    "vector_store = FAISS.from_documents(pages, embeddings)"
   ]
  },
  {
   "cell_type": "code",
   "execution_count": 9,
   "metadata": {},
   "outputs": [
    {
     "data": {
      "text/plain": [
       "[(Document(page_content='AIPractitionerHandbook\\nContributedbyEngineersfromAISingapore\\nEditedbyKennyWJChua,RyzalKamis,\\nSiavashSakhavi,AnandNatarajan,KevinOh,\\nNajibNinaba,KimHockNgandLaurenceLiew\\nMar24,2023', metadata={'source': '../data/pdf_data/AI-Practitioner-Handbook.pdf', 'page': 0}),\n",
       "  0.5360665),\n",
       " (Document(page_content='CHAPTER\\nNINE\\nCITEAISINGAPORE’SAIPRACTITIONERHANDBOOK\\nThishandbookisdevelopedbyAISingapore,withthemainpurposeofbenefitingthein-houseengineeringstaff. However,\\nwehopethatitwouldbenefitthepublicaswellandifyouwouldliketocitethiscontent,youmaydosowiththefollowing\\nsnippetforBibTeX:\\n@book {aisg_aiprac_hbook ,\\nauthor ={AI Singapore },\\ntitle ={AI Practitioner Handbook },\\nhowpublished ={\\\\url {https://aisingapore.github.io/ai-practitioner-handbook/ }},\\nyear ={2023 }\\n}\\n91', metadata={'source': '../data/pdf_data/AI-Practitioner-Handbook.pdf', 'page': 93}),\n",
       "  0.5409418),\n",
       " (Document(page_content='AIPractitionerHandbook\\n[Source] Summary plot of feature importance and feature effects, where each dot represents an instance per feature.\\n1.PartialDependencePlot(PDP):showsthemarginalimpactthatoneortwofeatureshaveonthepredictions. Useful\\nto deep dive and understand the direction of the relationship between specific feature(s) and the target, although\\nlimitedtoeasyvisualisationofmaximumtwofeatures.\\n6.11. Howcanweprovidepost-hocexplanationsforblack-boxAImodels? 79', metadata={'source': '../data/pdf_data/AI-Practitioner-Handbook.pdf', 'page': 81}),\n",
       "  0.54442596),\n",
       " (Document(page_content='AIPractitionerHandbook\\nOnce you are able to define these, you could request the sponsor to estimate the proportion of their production data\\nbrokendownbydifferentattributes. Forexample,belowisabreakdownofthedistributionofobjectsizeforthesalient\\nobjectdetectiondataset. Thegoalisthentoensurethatthetrainingdatamatchesthisproductiondistribution:\\nUsing these 4 key questions will allow you to have a gauge of the quality of the data for building the model. This is an\\nimportantstartingpointforbuildingamodelthathasgoodpredictivepower,anditisalsofairandrobust.\\n12 Chapter1. Pre-projectPhase', metadata={'source': '../data/pdf_data/AI-Practitioner-Handbook.pdf', 'page': 14}),\n",
       "  0.5479213)]"
      ]
     },
     "execution_count": 9,
     "metadata": {},
     "output_type": "execute_result"
    }
   ],
   "source": [
    "# Show the most similar documents to the query\n",
    "search_result = vector_store.similarity_search_with_score(\"who is this pdf for?\")\n",
    "search_result"
   ]
  },
  {
   "cell_type": "code",
   "execution_count": null,
   "metadata": {},
   "outputs": [],
   "source": [
    "# vector_store.save_local(\"your_file_path_here\")"
   ]
  },
  {
   "cell_type": "code",
   "execution_count": null,
   "metadata": {},
   "outputs": [],
   "source": [
    "import os\n",
    "\n",
    "# Load vectore store saved locally\n",
    "path = \"../data/vector_data/\"\n",
    "if os.path.exists(path):\n",
    "  vector_store = FAISS.load_local(\n",
    "      path,\n",
    "      OpenAIEmbeddings(openai_api_key=OPENAI_API_KEY)\n",
    "  )\n",
    "else:\n",
    "  print(f\"Missing files. Upload index.faiss and index.pkl files to {path} directory first\")"
   ]
  },
  {
   "cell_type": "code",
   "execution_count": 11,
   "metadata": {},
   "outputs": [],
   "source": [
    "# Trying out simple prompt templates\n",
    "\n",
    "system_template=\"\"\"Use the following pieces of context to answer the users question.\n",
    "Take note of the sources and include them in the answer in the format: \"SOURCES: source1 source2\", use \"SOURCES\" in capital letters regardless of the number of sources.\n",
    "If you don't know the answer, just say that \"I don't know\", don't try to make up an answer.\n",
    "----------------\n",
    "{summaries}\"\"\"\n",
    "messages = [\n",
    "    SystemMessagePromptTemplate.from_template(system_template),\n",
    "    HumanMessagePromptTemplate.from_template(\"{question}\")\n",
    "]\n",
    "prompt = ChatPromptTemplate.from_messages(messages)"
   ]
  },
  {
   "cell_type": "code",
   "execution_count": null,
   "metadata": {},
   "outputs": [],
   "source": [
    "# Addtional tuning of the prompt template\n",
    "system_template = \"\"\"Use the following pieces of context to answer the users question.\\\n",
    "No matter what the question is, you should always answer it in the context of the AI Practitioner Handbook.\\\n",
    "Even if the question does not end in a question mark, you should still answer it as if it were a question.\\\n",
    "If you don't know the answer, just say that \"I don't know\", don't try to make up an answer.\\\n",
    "If the question is not related to the AI Practitioner Handbook, just say that \"I don't know\".\\\n",
    "----------------\n",
    "{summaries}\"\"\"\n",
    "\n",
    "messages = [\n",
    "    SystemMessagePromptTemplate.from_template(system_template),\n",
    "    HumanMessagePromptTemplate.from_template(\"{question}\"),\n",
    "]\n",
    "prompt = ChatPromptTemplate.from_messages(messages)"
   ]
  },
  {
   "cell_type": "code",
   "execution_count": 15,
   "metadata": {},
   "outputs": [
    {
     "data": {
      "text/plain": [
       "<langchain.vectorstores.faiss.FAISS at 0x22e89d5a640>"
      ]
     },
     "execution_count": 15,
     "metadata": {},
     "output_type": "execute_result"
    }
   ],
   "source": [
    "vector_store"
   ]
  },
  {
   "cell_type": "code",
   "execution_count": 16,
   "metadata": {},
   "outputs": [],
   "source": [
    "# Initialize the chain\n",
    "chain_type_kwargs = {\"prompt\": prompt}\n",
    "llm = ChatOpenAI(model_name=\"gpt-3.5-turbo\", temperature=0, openai_api_key=OPENAI_API_KEY)  # Modify model_name if you have access to GPT-4\n",
    "chain = RetrievalQAWithSourcesChain.from_chain_type(\n",
    "    llm=llm,\n",
    "    chain_type=\"stuff\",\n",
    "    retriever=vector_store.as_retriever(),\n",
    "    return_source_documents=True,\n",
    "    chain_type_kwargs=chain_type_kwargs\n",
    ")"
   ]
  },
  {
   "cell_type": "code",
   "execution_count": 25,
   "metadata": {},
   "outputs": [
    {
     "data": {
      "text/plain": [
       "{'question': 'What is the job of an AI engineer?',\n",
       " 'answer': 'An AI engineer is responsible for building and delivering AI projects on time and on target by building an effective AI development team. They work on identifying AI ready projects, preliminary data identification, cleaning and curation, building, training and testing the models, and finally deploying the model. They also work with AI and ML Ops teams to enable the whole end-to-end process. The AI engineer serves as a technical lead for a small team of apprentices (i.e., ‘developers’). They are responsible for assessing whether the client has the capability to take over the final solution, integrate and maintain it, as the goal is to enable companies to build their own AI capabilities in the long run. (',\n",
       " 'sources': '../pdf_data/AI-Practitioner-Handbook.pdf)',\n",
       " 'source_documents': [Document(page_content='2.2 How can I build an effective AI development team?\\n\\nContributor: Kenny WJ Chua, Senior AI Engineer\\n\\n2.2.1 Introduction\\n\\nThe responsbilities of a technical lead are different from those of an individual contributor. Engineers, especially those\\n\\nwho are who are unfamiliar with leadership responsibilities, may face a learning curve in fulfilling these responsibilities.\\n\\nA technical lead indirectly delivers an AI project on time and on target by building an effective AI development team.\\n\\nThis article provides suggestions on promoting effective teams by contextualising general leadership principles.\\n\\nIn AISG, an engineer serves as technical lead for a small team of apprentices (i.e., ‘developers’). Therefore, the contents\\n\\nof this article would be useful to any AI practitioner who is in a similar leadership role.\\n\\nThis article requires some basic knowledge of a AI project life cycle and typical activities that occur in each stage. The', metadata={'source': '../pdf_data/AI-Practitioner-Handbook.pdf'}),\n",
       "  Document(page_content='ticeship Programme) working on the project full-time for the duration of the project. They are supported by Project\\n\\nManagers and the AI and ML Ops teams to deliver the project on time, and with the right infrastructure and architecture\\n\\npowered by established CI/CD pipelines.\\n\\nOur AI Engineers come from diverse academic disciplines and industry experience. In fact, many of our AI Engineers\\n\\nare hired from AI Apprentice cohorts. This handbook will provide new AI Engineers with a quick guide on our best\\n\\npractices to help them quickly become productive.\\n\\nConclusion\\n\\nSince 2017, we have engaged more than 600 companies, approved more than 1003 projects and completed more than 60\\n\\nof these AI projects under the 100E programme, and trained more than 250 AI Apprentices.\\n\\n2 Who are the AI Apprentices? See How Did AI Singapore Build a “200” Strong All-Singaporean AI Engineering Team With the Blue Ocean\\n\\nStrategy?\\n\\n3 Information to date\\n\\nCONTENTS\\n\\n3\\n\\nAI Practitioner Handbook', metadata={'source': '../pdf_data/AI-Practitioner-Handbook.pdf'}),\n",
       "  Document(page_content='We envisioned this handbook as a useful guide for new AI Engineers joining AI Singapore and to quickly come up to speed\\n\\non how we execute AI projects. However, the information contained here would also appeal to any new AI Engineers and\\n\\nManagers deploying their first AI project into production.\\n\\nDelivering production AI models goes beyond building AI models in Jupyter notebooks. It includes preliminary data\\n\\nidentification, cleaning and curation, followed by building, training and testing the models and finally deploying the model.\\n\\nThroughout the process, AI and ML Ops play a fundamental role to enable the whole end-to-end process.\\n\\nThere are many excellent books and resources on various AI algorithms, and we will not replicate them here. Instead, we\\n\\nwill focus on the best practices and knowledge required to deliver an AI project from end to end.\\n\\nCONTENTS\\n\\n1\\n\\nAI Practitioner Handbook\\n\\nIdentifying AI Ready Projects', metadata={'source': '../pdf_data/AI-Practitioner-Handbook.pdf'}),\n",
       "  Document(page_content='Contributor: Joy Lin, Senior AI Technical Consultant\\n\\nAI Practitioner Handbook\\n\\n1.5.1 Who is this for?\\n\\nThis article is aimed at AI engineers in an organisation like AI Singapore, who are building a solution for another company\\n\\n(henceforth referred to as the client) to take over and implement. In AI Singapore, the business development/presales\\n\\nteam, together with the AI engineer, scope for feasible AI projects. In doing so, they assess whether the client has the\\n\\ncapability to take over the final solution, integrate and maintain it, as the goal is to enable companies to build their own\\n\\nAI capabilities in the long run. Assuming that the client’s proposed AI solution has an established business value and is\\n\\nethical, this article narrows the focus to the technical aspects of AI readiness.\\n\\n1.5.2 Why does AI engineer need to assess client’s AI capabilities?\\n\\nWhen participating in pre-project scoping, it is beneficial for you to gauge if the client is capable of taking over your', metadata={'source': '../pdf_data/AI-Practitioner-Handbook.pdf'})]}"
      ]
     },
     "execution_count": 25,
     "metadata": {},
     "output_type": "execute_result"
    }
   ],
   "source": [
    "query = \"What is the job of an AI engineer?\"\n",
    "result = chain(query)\n",
    "result"
   ]
  },
  {
   "cell_type": "code",
   "execution_count": 19,
   "metadata": {},
   "outputs": [
    {
     "data": {
      "text/plain": [
       "'What is the job of an AI engineer?'"
      ]
     },
     "execution_count": 19,
     "metadata": {},
     "output_type": "execute_result"
    }
   ],
   "source": [
    "result['question']"
   ]
  },
  {
   "cell_type": "code",
   "execution_count": 20,
   "metadata": {},
   "outputs": [
    {
     "data": {
      "text/plain": [
       "'An AI engineer is responsible for building and delivering AI projects on time and on target by building an effective AI development team. They work on identifying AI ready projects, preliminary data identification, cleaning and curation, building, training and testing the models, and finally deploying the model. They also work with AI and ML Ops teams to enable the whole end-to-end process. The AI engineer serves as a technical lead for a small team of apprentices (i.e., ‘developers’). They are responsible for assessing whether the client has the capability to take over the final solution, integrate and maintain it, as the goal is to enable companies to build their own AI capabilities in the long run. ('"
      ]
     },
     "execution_count": 20,
     "metadata": {},
     "output_type": "execute_result"
    }
   ],
   "source": [
    "result['answer']"
   ]
  },
  {
   "cell_type": "code",
   "execution_count": 21,
   "metadata": {},
   "outputs": [
    {
     "data": {
      "text/plain": [
       "'../pdf_data/AI-Practitioner-Handbook.pdf)'"
      ]
     },
     "execution_count": 21,
     "metadata": {},
     "output_type": "execute_result"
    }
   ],
   "source": [
    "result['sources']"
   ]
  },
  {
   "cell_type": "code",
   "execution_count": 22,
   "metadata": {},
   "outputs": [
    {
     "data": {
      "text/plain": [
       "[Document(page_content='2.2 How can I build an effective AI development team?\\n\\nContributor: Kenny WJ Chua, Senior AI Engineer\\n\\n2.2.1 Introduction\\n\\nThe responsbilities of a technical lead are different from those of an individual contributor. Engineers, especially those\\n\\nwho are who are unfamiliar with leadership responsibilities, may face a learning curve in fulfilling these responsibilities.\\n\\nA technical lead indirectly delivers an AI project on time and on target by building an effective AI development team.\\n\\nThis article provides suggestions on promoting effective teams by contextualising general leadership principles.\\n\\nIn AISG, an engineer serves as technical lead for a small team of apprentices (i.e., ‘developers’). Therefore, the contents\\n\\nof this article would be useful to any AI practitioner who is in a similar leadership role.\\n\\nThis article requires some basic knowledge of a AI project life cycle and typical activities that occur in each stage. The', metadata={'source': '../pdf_data/AI-Practitioner-Handbook.pdf'}),\n",
       " Document(page_content='ticeship Programme) working on the project full-time for the duration of the project. They are supported by Project\\n\\nManagers and the AI and ML Ops teams to deliver the project on time, and with the right infrastructure and architecture\\n\\npowered by established CI/CD pipelines.\\n\\nOur AI Engineers come from diverse academic disciplines and industry experience. In fact, many of our AI Engineers\\n\\nare hired from AI Apprentice cohorts. This handbook will provide new AI Engineers with a quick guide on our best\\n\\npractices to help them quickly become productive.\\n\\nConclusion\\n\\nSince 2017, we have engaged more than 600 companies, approved more than 1003 projects and completed more than 60\\n\\nof these AI projects under the 100E programme, and trained more than 250 AI Apprentices.\\n\\n2 Who are the AI Apprentices? See How Did AI Singapore Build a “200” Strong All-Singaporean AI Engineering Team With the Blue Ocean\\n\\nStrategy?\\n\\n3 Information to date\\n\\nCONTENTS\\n\\n3\\n\\nAI Practitioner Handbook', metadata={'source': '../pdf_data/AI-Practitioner-Handbook.pdf'}),\n",
       " Document(page_content='We envisioned this handbook as a useful guide for new AI Engineers joining AI Singapore and to quickly come up to speed\\n\\non how we execute AI projects. However, the information contained here would also appeal to any new AI Engineers and\\n\\nManagers deploying their first AI project into production.\\n\\nDelivering production AI models goes beyond building AI models in Jupyter notebooks. It includes preliminary data\\n\\nidentification, cleaning and curation, followed by building, training and testing the models and finally deploying the model.\\n\\nThroughout the process, AI and ML Ops play a fundamental role to enable the whole end-to-end process.\\n\\nThere are many excellent books and resources on various AI algorithms, and we will not replicate them here. Instead, we\\n\\nwill focus on the best practices and knowledge required to deliver an AI project from end to end.\\n\\nCONTENTS\\n\\n1\\n\\nAI Practitioner Handbook\\n\\nIdentifying AI Ready Projects', metadata={'source': '../pdf_data/AI-Practitioner-Handbook.pdf'}),\n",
       " Document(page_content='Contributor: Joy Lin, Senior AI Technical Consultant\\n\\nAI Practitioner Handbook\\n\\n1.5.1 Who is this for?\\n\\nThis article is aimed at AI engineers in an organisation like AI Singapore, who are building a solution for another company\\n\\n(henceforth referred to as the client) to take over and implement. In AI Singapore, the business development/presales\\n\\nteam, together with the AI engineer, scope for feasible AI projects. In doing so, they assess whether the client has the\\n\\ncapability to take over the final solution, integrate and maintain it, as the goal is to enable companies to build their own\\n\\nAI capabilities in the long run. Assuming that the client’s proposed AI solution has an established business value and is\\n\\nethical, this article narrows the focus to the technical aspects of AI readiness.\\n\\n1.5.2 Why does AI engineer need to assess client’s AI capabilities?\\n\\nWhen participating in pre-project scoping, it is beneficial for you to gauge if the client is capable of taking over your', metadata={'source': '../pdf_data/AI-Practitioner-Handbook.pdf'})]"
      ]
     },
     "execution_count": 22,
     "metadata": {},
     "output_type": "execute_result"
    }
   ],
   "source": [
    "result['source_documents']"
   ]
  },
  {
   "cell_type": "code",
   "execution_count": 27,
   "metadata": {},
   "outputs": [],
   "source": [
    "# Experimenting with the prompt template for Condense Questions to perform chat history summarization. This is not used in the final product as it is not properly tuned.\n",
    "_template = \"\"\"Given the following conversation and a follow up question, rephrase the follow up question to be a standalone question.\n",
    "You can assume the question about the most recent state of the AI Practioner Handbook.\n",
    "Chat History:\n",
    "{chat_history}\n",
    "Follow Up Input: {question}\n",
    "Standalone question:\"\"\"\n",
    "\n",
    "CONDENSE_QUESTION_PROMPT = PromptTemplate.from_template(_template)"
   ]
  },
  {
   "cell_type": "code",
   "execution_count": 28,
   "metadata": {},
   "outputs": [
    {
     "data": {
      "text/plain": [
       "PromptTemplate(input_variables=['chat_history', 'question'], output_parser=None, partial_variables={}, template='Given the following conversation and a follow up question, rephrase the follow up question to be a standalone question.\\nYou can assume the question about the most recent state of the AI Practioner Handbook.\\nChat History:\\n{chat_history}\\nFollow Up Input: {question}\\nStandalone question:', template_format='f-string', validate_template=True)"
      ]
     },
     "execution_count": 28,
     "metadata": {},
     "output_type": "execute_result"
    }
   ],
   "source": [
    "CONDENSE_QUESTION_PROMPT"
   ]
  },
  {
   "cell_type": "code",
   "execution_count": 29,
   "metadata": {},
   "outputs": [],
   "source": [
    "# Using a different chain type that is able to be context-aware based on chat history\n",
    "chain = ConversationalRetrievalChain.from_llm(\n",
    "    llm=llm,\n",
    "    retriever=vector_store.as_retriever(),\n",
    "    chain_type=\"stuff\",\n",
    "    verbose=True,\n",
    "    return_source_documents=True,\n",
    "    condense_question_prompt=CONDENSE_QUESTION_PROMPT,\n",
    ")"
   ]
  },
  {
   "cell_type": "code",
   "execution_count": 30,
   "metadata": {},
   "outputs": [
    {
     "name": "stdout",
     "output_type": "stream",
     "text": [
      "\n",
      "\n",
      "\u001b[1m> Entering new ConversationalRetrievalChain chain...\u001b[0m\n",
      "\n",
      "\u001b[1m> Finished chain.\u001b[0m\n"
     ]
    }
   ],
   "source": [
    "chat_history = []\n",
    "query = \"What is the role of an ai engineer?\"\n",
    "result = chain({\"question\": query, \"chat_history\": chat_history})"
   ]
  },
  {
   "cell_type": "code",
   "execution_count": 31,
   "metadata": {},
   "outputs": [
    {
     "data": {
      "text/plain": [
       "{'question': 'What is the role of an ai engineer?',\n",
       " 'chat_history': [],\n",
       " 'answer': 'According to the context provided, an AI engineer is responsible for building and delivering AI projects on time and on target by building an effective AI development team. They work as technical leads for a small team of apprentices (i.e., ‘developers’), and they are supported by Project Managers and the AI and ML Ops teams to deliver the project on time, and with the right infrastructure and architecture powered by established CI/CD pipelines. Their responsibilities include preliminary data identification, cleaning and curation, followed by building, training and testing the models and finally deploying the model.',\n",
       " 'source_documents': [Document(page_content='2.2 How can I build an effective AI development team?\\n\\nContributor: Kenny WJ Chua, Senior AI Engineer\\n\\n2.2.1 Introduction\\n\\nThe responsbilities of a technical lead are different from those of an individual contributor. Engineers, especially those\\n\\nwho are who are unfamiliar with leadership responsibilities, may face a learning curve in fulfilling these responsibilities.\\n\\nA technical lead indirectly delivers an AI project on time and on target by building an effective AI development team.\\n\\nThis article provides suggestions on promoting effective teams by contextualising general leadership principles.\\n\\nIn AISG, an engineer serves as technical lead for a small team of apprentices (i.e., ‘developers’). Therefore, the contents\\n\\nof this article would be useful to any AI practitioner who is in a similar leadership role.\\n\\nThis article requires some basic knowledge of a AI project life cycle and typical activities that occur in each stage. The', metadata={'source': '../pdf_data/AI-Practitioner-Handbook.pdf'}),\n",
       "  Document(page_content='ticeship Programme) working on the project full-time for the duration of the project. They are supported by Project\\n\\nManagers and the AI and ML Ops teams to deliver the project on time, and with the right infrastructure and architecture\\n\\npowered by established CI/CD pipelines.\\n\\nOur AI Engineers come from diverse academic disciplines and industry experience. In fact, many of our AI Engineers\\n\\nare hired from AI Apprentice cohorts. This handbook will provide new AI Engineers with a quick guide on our best\\n\\npractices to help them quickly become productive.\\n\\nConclusion\\n\\nSince 2017, we have engaged more than 600 companies, approved more than 1003 projects and completed more than 60\\n\\nof these AI projects under the 100E programme, and trained more than 250 AI Apprentices.\\n\\n2 Who are the AI Apprentices? See How Did AI Singapore Build a “200” Strong All-Singaporean AI Engineering Team With the Blue Ocean\\n\\nStrategy?\\n\\n3 Information to date\\n\\nCONTENTS\\n\\n3\\n\\nAI Practitioner Handbook', metadata={'source': '../pdf_data/AI-Practitioner-Handbook.pdf'}),\n",
       "  Document(page_content='Contributor: Joy Lin, Senior AI Technical Consultant\\n\\nAI Practitioner Handbook\\n\\n1.5.1 Who is this for?\\n\\nThis article is aimed at AI engineers in an organisation like AI Singapore, who are building a solution for another company\\n\\n(henceforth referred to as the client) to take over and implement. In AI Singapore, the business development/presales\\n\\nteam, together with the AI engineer, scope for feasible AI projects. In doing so, they assess whether the client has the\\n\\ncapability to take over the final solution, integrate and maintain it, as the goal is to enable companies to build their own\\n\\nAI capabilities in the long run. Assuming that the client’s proposed AI solution has an established business value and is\\n\\nethical, this article narrows the focus to the technical aspects of AI readiness.\\n\\n1.5.2 Why does AI engineer need to assess client’s AI capabilities?\\n\\nWhen participating in pre-project scoping, it is beneficial for you to gauge if the client is capable of taking over your', metadata={'source': '../pdf_data/AI-Practitioner-Handbook.pdf'}),\n",
       "  Document(page_content='We envisioned this handbook as a useful guide for new AI Engineers joining AI Singapore and to quickly come up to speed\\n\\non how we execute AI projects. However, the information contained here would also appeal to any new AI Engineers and\\n\\nManagers deploying their first AI project into production.\\n\\nDelivering production AI models goes beyond building AI models in Jupyter notebooks. It includes preliminary data\\n\\nidentification, cleaning and curation, followed by building, training and testing the models and finally deploying the model.\\n\\nThroughout the process, AI and ML Ops play a fundamental role to enable the whole end-to-end process.\\n\\nThere are many excellent books and resources on various AI algorithms, and we will not replicate them here. Instead, we\\n\\nwill focus on the best practices and knowledge required to deliver an AI project from end to end.\\n\\nCONTENTS\\n\\n1\\n\\nAI Practitioner Handbook\\n\\nIdentifying AI Ready Projects', metadata={'source': '../pdf_data/AI-Practitioner-Handbook.pdf'})]}"
      ]
     },
     "execution_count": 31,
     "metadata": {},
     "output_type": "execute_result"
    }
   ],
   "source": [
    "result"
   ]
  },
  {
   "cell_type": "code",
   "execution_count": 32,
   "metadata": {},
   "outputs": [
    {
     "name": "stdout",
     "output_type": "stream",
     "text": [
      "\n",
      "\n",
      "\u001b[1m> Entering new ConversationalRetrievalChain chain...\u001b[0m\n",
      "\n",
      "\u001b[1m> Finished chain.\u001b[0m\n"
     ]
    }
   ],
   "source": [
    "chat_history.append((query, result[\"answer\"]))\n",
    "query = \"How can he build the team?\" # Testing to see if model knows that \"he\" refers to the ai engineer from previous question\n",
    "result = chain({\"question\": query, \"chat_history\": chat_history})"
   ]
  },
  {
   "cell_type": "code",
   "execution_count": 34,
   "metadata": {},
   "outputs": [
    {
     "data": {
      "text/plain": [
       "\"The article provides suggestions on promoting effective teams by contextualizing general leadership principles. A technical lead indirectly delivers an AI project on time and on target by building an effective AI development team. The article requires some basic knowledge of an AI project life cycle and typical activities that occur in each stage. The technical lead can model the way by demonstrating values and practices that he/she espouses. For example, a technical lead can cultivate a team habit of writing well-structured and documented code by taking on a few of such tasks himself/herself. This may be particularly fruitful when onboarding a new team of junior developers. The article also suggests that the technical lead should assess the team's strengths and weaknesses and provide opportunities for growth and development. Additionally, the technical lead should establish clear communication channels and foster a culture of collaboration and continuous learning.\""
      ]
     },
     "execution_count": 34,
     "metadata": {},
     "output_type": "execute_result"
    }
   ],
   "source": [
    "result[\"answer\"]"
   ]
  },
  {
   "cell_type": "code",
   "execution_count": 35,
   "metadata": {},
   "outputs": [
    {
     "data": {
      "text/plain": [
       "[('What is the role of an ai engineer?',\n",
       "  'According to the context provided, an AI engineer is responsible for building and delivering AI projects on time and on target by building an effective AI development team. They work as technical leads for a small team of apprentices (i.e., ‘developers’), and they are supported by Project Managers and the AI and ML Ops teams to deliver the project on time, and with the right infrastructure and architecture powered by established CI/CD pipelines. Their responsibilities include preliminary data identification, cleaning and curation, followed by building, training and testing the models and finally deploying the model.')]"
      ]
     },
     "execution_count": 35,
     "metadata": {},
     "output_type": "execute_result"
    }
   ],
   "source": [
    "result[\"chat_history\"]"
   ]
  },
  {
   "cell_type": "code",
   "execution_count": 36,
   "metadata": {},
   "outputs": [
    {
     "name": "stdout",
     "output_type": "stream",
     "text": [
      "\n",
      "\n",
      "\u001b[1m> Entering new ConversationalRetrievalChain chain...\u001b[0m\n",
      "\n",
      "\u001b[1m> Finished chain.\u001b[0m\n"
     ]
    }
   ],
   "source": [
    "chat_history.append((query, result[\"answer\"]))\n",
    "query = \"How does he work with clients?\" # Testing to see if model knows that \"he\" refers to the ai engineer from previous previous question\n",
    "result = chain({\"question\": query, \"chat_history\": chat_history})"
   ]
  },
  {
   "cell_type": "code",
   "execution_count": 37,
   "metadata": {},
   "outputs": [
    {
     "data": {
      "text/plain": [
       "'Based on the given context, the most recent state of the AI Practitioner Handbook is not provided. The context only mentions that the handbook is a live project and will continue to evolve and be updated as they do more projects and learn more. The last date mentioned in the context is March 24, 2023, which could be the date of publication or the last update.'"
      ]
     },
     "execution_count": 37,
     "metadata": {},
     "output_type": "execute_result"
    }
   ],
   "source": [
    "result[\"answer\"] # The answer given here is not satisfactory. FURTHER tuning of prompt is required, so refer to the query_processor.py file where the tuned prompt is stored."
   ]
  },
  {
   "cell_type": "code",
   "execution_count": 38,
   "metadata": {},
   "outputs": [
    {
     "data": {
      "text/plain": [
       "[('What is the role of an ai engineer?',\n",
       "  'According to the context provided, an AI engineer is responsible for building and delivering AI projects on time and on target by building an effective AI development team. They work as technical leads for a small team of apprentices (i.e., ‘developers’), and they are supported by Project Managers and the AI and ML Ops teams to deliver the project on time, and with the right infrastructure and architecture powered by established CI/CD pipelines. Their responsibilities include preliminary data identification, cleaning and curation, followed by building, training and testing the models and finally deploying the model.'),\n",
       " ('How can he build the team?',\n",
       "  \"The article provides suggestions on promoting effective teams by contextualizing general leadership principles. A technical lead indirectly delivers an AI project on time and on target by building an effective AI development team. The article requires some basic knowledge of an AI project life cycle and typical activities that occur in each stage. The technical lead can model the way by demonstrating values and practices that he/she espouses. For example, a technical lead can cultivate a team habit of writing well-structured and documented code by taking on a few of such tasks himself/herself. This may be particularly fruitful when onboarding a new team of junior developers. The article also suggests that the technical lead should assess the team's strengths and weaknesses and provide opportunities for growth and development. Additionally, the technical lead should establish clear communication channels and foster a culture of collaboration and continuous learning.\")]"
      ]
     },
     "execution_count": 38,
     "metadata": {},
     "output_type": "execute_result"
    }
   ],
   "source": [
    "result[\"chat_history\"]"
   ]
  },
  {
   "cell_type": "code",
   "execution_count": 39,
   "metadata": {},
   "outputs": [
    {
     "name": "stdout",
     "output_type": "stream",
     "text": [
      "\n",
      "\n",
      "\u001b[1m> Entering new ConversationalRetrievalChain chain...\u001b[0m\n",
      "\n",
      "\u001b[1m> Finished chain.\u001b[0m\n"
     ]
    }
   ],
   "source": [
    "chat_history.append((query, result[\"answer\"]))\n",
    "query = \"How can he test models?\"\n",
    "result = chain({\"question\": query, \"chat_history\": chat_history})"
   ]
  },
  {
   "cell_type": "code",
   "execution_count": 40,
   "metadata": {},
   "outputs": [
    {
     "data": {
      "text/plain": [
       "\"AI engineers typically test models by performing various types of tests, such as API call tests, algorithmic correctness tests, and robustness tests. They also check for model performance and accuracy, and use metrics such as accuracy, confusion matrix, precision, recall, F1, ROC & AUC, and precision-recall curve to evaluate the model's performance. Additionally, they may use techniques such as metamorphic testing and denoising techniques to improve the model's performance. Finally, they may assess the client's AI readiness level and organizational readiness to ensure a successful project.\""
      ]
     },
     "execution_count": 40,
     "metadata": {},
     "output_type": "execute_result"
    }
   ],
   "source": [
    "result[\"answer\"]"
   ]
  },
  {
   "cell_type": "code",
   "execution_count": 41,
   "metadata": {},
   "outputs": [
    {
     "data": {
      "text/plain": [
       "[('What is the role of an ai engineer?',\n",
       "  'According to the context provided, an AI engineer is responsible for building and delivering AI projects on time and on target by building an effective AI development team. They work as technical leads for a small team of apprentices (i.e., ‘developers’), and they are supported by Project Managers and the AI and ML Ops teams to deliver the project on time, and with the right infrastructure and architecture powered by established CI/CD pipelines. Their responsibilities include preliminary data identification, cleaning and curation, followed by building, training and testing the models and finally deploying the model.'),\n",
       " ('How can he build the team?',\n",
       "  \"The article provides suggestions on promoting effective teams by contextualizing general leadership principles. A technical lead indirectly delivers an AI project on time and on target by building an effective AI development team. The article requires some basic knowledge of an AI project life cycle and typical activities that occur in each stage. The technical lead can model the way by demonstrating values and practices that he/she espouses. For example, a technical lead can cultivate a team habit of writing well-structured and documented code by taking on a few of such tasks himself/herself. This may be particularly fruitful when onboarding a new team of junior developers. The article also suggests that the technical lead should assess the team's strengths and weaknesses and provide opportunities for growth and development. Additionally, the technical lead should establish clear communication channels and foster a culture of collaboration and continuous learning.\"),\n",
       " ('How does he work with clients?',\n",
       "  'Based on the given context, the most recent state of the AI Practitioner Handbook is not provided. The context only mentions that the handbook is a live project and will continue to evolve and be updated as they do more projects and learn more. The last date mentioned in the context is March 24, 2023, which could be the date of publication or the last update.')]"
      ]
     },
     "execution_count": 41,
     "metadata": {},
     "output_type": "execute_result"
    }
   ],
   "source": [
    "result[\"chat_history\"]"
   ]
  },
  {
   "cell_type": "code",
   "execution_count": null,
   "metadata": {},
   "outputs": [],
   "source": [
    "# More experiments with questions and getting answers\n",
    "\n",
    "# \"What is the role of  an AI engineer?\",\n",
    "# \"An AI engineer is responsible for developing and implementing artificial intelligence solutions. They work on AI projects, from conceptualization to deployment, and are involved in designing, building, testing, and maintaining AI systems. They also collaborate with other team members, such as data scientists and software developers, to ensure that the AI solutions meet the project requirements and are scalable, efficient, and effective. Additionally, AI engineers may also be responsible for assessing the client's AI capabilities and ensuring that the final solution can be integrated and maintained by the client.\"\n",
    "\n",
    "# \"How does he work with the clients?\",\n",
    "# \"According to the AI Practitioner Handbook, an AI engineer should assess a client's AI capabilities by focusing on three broad areas:\\n\\n1. Organizational readiness: The engineer should determine if there is an existing technical team who is able to integrate and maintain the AI models. If not, the engineer should inquire about the client's plans to hire the necessary resources. The engineer should also assess if the client's management is supportive of AI projects and team expansion if necessary, and if they allow room for experimentation and development.\\n\\n2. Technical readiness: The engineer should assess the client's technical infrastructure, including their data storage and processing capabilities, as well as their ability to handle the computational requirements of the AI models.\\n\\n3. Data readiness: The engineer should assess the quality and availability of the client's data, as well as their ability to collect and label data if necessary.\\n\\nBy assessing these areas, the AI engineer can determine if the client is capable of taking over the final solution, integrating and maintaining it, as the goal is to enable companies to build their own AI capabilities in the long run.\"\n",
    "\n",
    "\n",
    "# \"Who are the contributors to this book?\",\n",
    "# \"I'm sorry, I couldn't help you with that question. Is there anything else I can assist you with?\"\n",
    "\n",
    "\n",
    "# \"Who are the contributors to this book?\",\n",
    "# \"The AI Practitioner Handbook was contributed by Engineers from AI Singapore and edited by Kenny WJ Chua, Ryzal Kamis, Siavash Sakhavi, Anand Natarajan, Kevin Oh, Najib Ninaba, Kim Hock Ng, and Laurence Liew.\"\n",
    "\n",
    "\n",
    "# \"How many of them are there? Give me a number.\",\n",
    "# \"There were 7 contributors involved in editing the AI Practitioner Handbook.\"\n",
    "#  AI counted the editors wrongly!!!!"
   ]
  }
 ],
 "metadata": {
  "kernelspec": {
   "display_name": "questionanswer",
   "language": "python",
   "name": "python3"
  },
  "language_info": {
   "codemirror_mode": {
    "name": "ipython",
    "version": 3
   },
   "file_extension": ".py",
   "mimetype": "text/x-python",
   "name": "python",
   "nbconvert_exporter": "python",
   "pygments_lexer": "ipython3",
   "version": "3.9.16"
  },
  "orig_nbformat": 4
 },
 "nbformat": 4,
 "nbformat_minor": 2
}
